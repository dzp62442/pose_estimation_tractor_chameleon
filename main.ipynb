{
 "cells": [
  {
   "cell_type": "code",
   "execution_count": 1,
   "metadata": {},
   "outputs": [
    {
     "name": "stdout",
     "output_type": "stream",
     "text": [
      "4.6.0\n"
     ]
    }
   ],
   "source": [
    "import os\n",
    "import numpy as np\n",
    "import cv2 as cv\n",
    "import glob\n",
    "from pathlib import Path\n",
    "print(cv.__version__)\n",
    "\n",
    "bmp_dir = \"./my_imgs/pic1/bmp\"\n",
    "jpg_dir = \"./my_imgs/pic1/jpg\"\n",
    "\n",
    "if not Path(jpg_dir).is_dir():\n",
    "    os.mkdir(jpg_dir)\n",
    "\n",
    "# bmp格式图像转为jpg\n",
    "filelists = os.listdir(bmp_dir)\n",
    "for f in filelists:\n",
    "    img = cv.imread(os.path.join(bmp_dir, f), -1)\n",
    "    newName = f.replace('.bmp', '.jpg')\n",
    "    cv.imwrite(os.path.join(jpg_dir, newName), img)"
   ]
  },
  {
   "cell_type": "code",
   "execution_count": 2,
   "metadata": {},
   "outputs": [
    {
     "name": "stdout",
     "output_type": "stream",
     "text": [
      "(6, 8)\n",
      "Ret: 0.5694511814872326\n",
      "Internal matrix:\n",
      " [[862.47933407   0.         655.93105476]\n",
      " [  0.         859.28839578 511.04247192]\n",
      " [  0.           0.           1.        ]]\n",
      "Distortion Cofficients:\n",
      " [[-0.09334898  0.06179651  0.          0.          0.        ]]\n",
      "Rotation vectors:\n",
      " [[-0.11434551]\n",
      " [ 0.11502402]\n",
      " [-0.07087439]]\n",
      "Translation vectors:\n",
      " [[-0.09565525]\n",
      " [-0.1648946 ]\n",
      " [ 0.55810831]]\n",
      "Average Error of Reproject: 0.052574249817994946\n"
     ]
    }
   ],
   "source": [
    "# 相机标定\n",
    "def calib(inter_corner_shape, size_per_grid, img_dir, img_type):\n",
    "    print(inter_corner_shape)  # cv::Size(columns，rows)\n",
    "    w, h = inter_corner_shape\n",
    "\n",
    "    # cp_int: 世界坐标系中int格式的角点序号坐标，如 (0,0,0), (1,0,0), (2,0,0) ....,(10,7,0).\n",
    "    cp_int = np.zeros((w*h,3), np.float32)\n",
    "    cp_int[:,0:2] = np.mgrid[0:w,0:h].T.reshape(-1,2)\n",
    "    # cp_world: 世界坐标系中的角点坐标\n",
    "    cp_world = cp_int * size_per_grid\n",
    "\n",
    "    obj_points = []  # 空间坐标系中的点\n",
    "    img_points = []  # 像素坐标系中的点\n",
    "    images = glob.glob(img_dir + os.sep + '**.' + img_type)  # 查找符合规则的文件路径名\n",
    "\n",
    "    draw_save_dir = img_dir.replace(img_type, 'corner')\n",
    "    if not Path(draw_save_dir).is_dir():\n",
    "        os.mkdir(draw_save_dir)\n",
    "\n",
    "    for i, fname in enumerate(images):\n",
    "        img = cv.imread(fname)\n",
    "        gray_img = cv.cvtColor(img, cv.COLOR_BGR2GRAY)\n",
    "        # 查找角点，cp_img: 像素坐标系中的角点坐标\n",
    "        ret, cp_img = cv.findChessboardCorners(gray_img, inter_corner_shape, None)\n",
    "        if ret == True:\n",
    "            obj_points.append(cp_world)\n",
    "            img_points.append(cp_img)\n",
    "            draw_img = cv.drawChessboardCorners(img, inter_corner_shape, cp_img, ret)\n",
    "            cv.imwrite(os.path.join(draw_save_dir, str(i+1)+'.jpg'), draw_img)\n",
    "        else:\n",
    "            raise RuntimeError(\"Find Chessboard Corners Error !\")\n",
    "\n",
    "    # 相机标定\n",
    "    ret, mat_inter, coff_dis, v_rot, v_trans = cv.calibrateCamera(obj_points, img_points, gray_img.shape[::-1], None, None, flags=(cv.CALIB_ZERO_TANGENT_DIST+cv.CALIB_FIX_K3))\n",
    "    print(\"Ret:\", ret)\n",
    "    print(\"Internal matrix:\\n\", mat_inter)\n",
    "    print(\"Distortion Cofficients:\\n\", coff_dis)\n",
    "    print(\"Rotation vectors:\\n\", v_rot[5])\n",
    "    print(\"Translation vectors:\\n\", v_trans[5])\n",
    "    # 计算重投影误差\n",
    "    total_error = 0\n",
    "    for i in range(len(obj_points)):\n",
    "        # 世界坐标系中的点重投影到像素坐标系中\n",
    "        img_points_repro, _ = cv.projectPoints(obj_points[i], v_rot[i], v_trans[i], mat_inter, coff_dis)\n",
    "        error = cv.norm(img_points[i], img_points_repro, cv.NORM_L2) / len(img_points_repro)\n",
    "        total_error += error\n",
    "    print(\"Average Error of Reproject:\", total_error/len(obj_points))\n",
    "\n",
    "    return mat_inter, coff_dis\n",
    "\n",
    "inter_corner_shape = (6, 8)\n",
    "size_per_grid = 0.03\n",
    "img_type = 'jpg'\n",
    "mat_inter, coff_dis = calib(inter_corner_shape, size_per_grid, jpg_dir, img_type);\n"
   ]
  },
  {
   "cell_type": "code",
   "execution_count": 3,
   "metadata": {},
   "outputs": [
    {
     "name": "stdout",
     "output_type": "stream",
     "text": [
      "[[ 1.36853223e+00 -8.44297222e-02 -9.05552359e+01]\n",
      " [ 7.99679834e-02  1.09797540e+00 -6.47323312e+01]\n",
      " [ 2.29615676e-04 -2.26052358e-04  1.00000000e+00]]\n",
      "Average Error of Reproject: 1.4365618175361305\n"
     ]
    }
   ],
   "source": [
    "# 计算两张图片之间的单应性矩阵\n",
    "def findH2(dst, src, inter_corner_shape, img_dir, img_type):\n",
    "    images = glob.glob(img_dir + os.sep + '**.' + img_type)  # 查找符合规则的文件路径名\n",
    "\n",
    "    img_0 = cv.imread(images[src])\n",
    "    gray_img_0 = cv.cvtColor(img_0, cv.COLOR_BGR2GRAY)\n",
    "    ret_0, corners_0 = cv.findChessboardCorners(gray_img_0, inter_corner_shape, None)\n",
    "\n",
    "    img = cv.imread(images[dst])\n",
    "    gray_img = cv.cvtColor(img, cv.COLOR_BGR2GRAY)\n",
    "    ret, corners = cv.findChessboardCorners(gray_img, inter_corner_shape, None)\n",
    "\n",
    "    if ret and ret_0:\n",
    "        H, mask = cv.findHomography(corners_0, corners, cv.RANSAC)  # mask: 内点掩码\n",
    "        print(H)\n",
    "    else:\n",
    "        raise RuntimeError(\"Find Chessboard Corners Error !\")\n",
    "\n",
    "    # 验证单应性变换方向\n",
    "    Reproj_corners = cv.perspectiveTransform(corners_0, H)  #! dst = H src\n",
    "    total_error = 0\n",
    "    for i in range(len(corners)):\n",
    "        error = cv.norm(corners[i], Reproj_corners[i], cv.NORM_L2) ** 2\n",
    "        total_error += error\n",
    "    total_error /= 2\n",
    "    print(\"Average Error of Reproject:\", total_error)\n",
    "\n",
    "    return H\n",
    "\n",
    "src_img_idx = 0\n",
    "dst_img_idx = 7\n",
    "H = findH2(dst_img_idx, src_img_idx, inter_corner_shape, jpg_dir, img_type);"
   ]
  },
  {
   "cell_type": "code",
   "execution_count": 4,
   "metadata": {},
   "outputs": [
    {
     "name": "stdout",
     "output_type": "stream",
     "text": [
      "[1 1 0 0]\n"
     ]
    }
   ],
   "source": [
    "# 由H矩阵求解旋转矩阵，筛选正确 R 和 t\n",
    "num, Rs, Ts, Ns  = cv.decomposeHomographyMat(H, mat_inter)\n",
    "K = mat_inter\n",
    "K_inv = np.linalg.inv(K)\n",
    "z0 = np.array([[0], [0], [1]])  # z轴单位向量\n",
    "\n",
    "flags = np.ones(num, dtype=np.int16)\n",
    "for i in range(num):\n",
    "    R, T, N = Rs[i], Ts[i], Ns[i]\n",
    "    # 法向量和 z 轴夹角的余弦值即为 N[2]\n",
    "    if (abs(N[2]) < 0.85):\n",
    "        flags[i] = 0\n",
    "    # d\n",
    "    d = (T @ N.T) / (R - K_inv @ H @ K)\n",
    "print(flags)\n"
   ]
  },
  {
   "cell_type": "code",
   "execution_count": 5,
   "metadata": {},
   "outputs": [
    {
     "name": "stdout",
     "output_type": "stream",
     "text": [
      "Rotation vectors:\n",
      " [[-0.11434551]\n",
      " [ 0.11502402]\n",
      " [-0.07087439]]\n",
      "Translation vectors:\n",
      " [[-0.09565525]\n",
      " [-0.1648946 ]\n",
      " [ 0.55810831]]\n"
     ]
    }
   ],
   "source": [
    "# PnP问题求解相机位姿\n",
    "def usePnP(idx, mat_inter, coff_dis, inter_corner_shape, size_per_grid, img_dir, img_type):\n",
    "    w, h = inter_corner_shape\n",
    "\n",
    "    # cp_int: 世界坐标系中int格式的角点序号坐标，如 (0,0,0), (1,0,0), (2,0,0) ....,(10,7,0).\n",
    "    cp_int = np.zeros((w*h,3), np.float32)\n",
    "    cp_int[:,0:2] = np.mgrid[0:w,0:h].T.reshape(-1,2)\n",
    "    # cp_world: 世界坐标系中的角点坐标\n",
    "    cp_world = cp_int * size_per_grid\n",
    "\n",
    "    # cp_img: 像素坐标系中的角点坐标\n",
    "    images = glob.glob(img_dir + os.sep + '**.' + img_type)  # 查找符合规则的文件路径名\n",
    "    img = cv.imread(images[idx])\n",
    "    gray_img = cv.cvtColor(img, cv.COLOR_BGR2GRAY)\n",
    "    ret, cp_img = cv.findChessboardCorners(gray_img, inter_corner_shape, None)\n",
    "\n",
    "    # 估计相机位姿\n",
    "    _, v_rot, T = cv.solvePnP(cp_world, cp_img, mat_inter, coff_dis)\n",
    "    print(\"Rotation vectors:\\n\", v_rot)\n",
    "    print(\"Translation vectors:\\n\", T)\n",
    "\n",
    "usePnP(5, mat_inter, coff_dis, inter_corner_shape, size_per_grid, jpg_dir, img_type)"
   ]
  }
 ],
 "metadata": {
  "kernelspec": {
   "display_name": "Python 3.8.13 ('pytorch')",
   "language": "python",
   "name": "python3"
  },
  "language_info": {
   "codemirror_mode": {
    "name": "ipython",
    "version": 3
   },
   "file_extension": ".py",
   "mimetype": "text/x-python",
   "name": "python",
   "nbconvert_exporter": "python",
   "pygments_lexer": "ipython3",
   "version": "3.8.13"
  },
  "orig_nbformat": 4,
  "vscode": {
   "interpreter": {
    "hash": "240bc028caeb8b02ff80d8aedfc61caf7a0e4db2770780d40c5b717508bae340"
   }
  }
 },
 "nbformat": 4,
 "nbformat_minor": 2
}
