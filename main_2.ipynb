{
 "cells": [
  {
   "cell_type": "code",
   "execution_count": 123,
   "metadata": {},
   "outputs": [
    {
     "name": "stdout",
     "output_type": "stream",
     "text": [
      "4.6.0\n"
     ]
    }
   ],
   "source": [
    "import os\n",
    "import numpy as np\n",
    "import cv2 as cv\n",
    "import glob\n",
    "from pathlib import Path\n",
    "print(cv.__version__)\n",
    "\n",
    "img_type = 'jpg'\n",
    "calib_dir = \"./my_imgs/pic3/calib_imgs\"\n",
    "rotate_dir = \"./my_imgs/pic3/rotate_imgs/\"\n",
    "\n",
    "grid_size = 0.03  # 每个网格尺寸，单位米\n",
    "grid_shape = (8, 6)  # 内角点列数、行数"
   ]
  },
  {
   "cell_type": "code",
   "execution_count": 124,
   "metadata": {},
   "outputs": [
    {
     "name": "stdout",
     "output_type": "stream",
     "text": [
      "(8, 6)\n",
      "Ret: 0.4451177419944304\n",
      "Internal matrix:\n",
      " [[1.15591174e+03 0.00000000e+00 8.15002368e+02]\n",
      " [0.00000000e+00 1.16058292e+03 6.13394808e+02]\n",
      " [0.00000000e+00 0.00000000e+00 1.00000000e+00]]\n",
      "Distortion Cofficients:\n",
      " [[-0.12510674  0.16955632  0.          0.          0.        ]]\n",
      "Average Error of Reproject: 0.05458250305059955\n"
     ]
    }
   ],
   "source": [
    "# 相机标定\n",
    "def calib(grid_shape, grid_size, img_dir, img_type):\n",
    "    print(grid_shape)  # cv::Size(columns，rows)\n",
    "    w, h = grid_shape\n",
    "\n",
    "    # cp_int: 世界坐标系中int格式的角点序号坐标，如 (0,0,0), (1,0,0), (2,0,0) ....,(10,7,0).\n",
    "    cp_int = np.zeros((w*h,3), np.float32)\n",
    "    cp_int[:,0:2] = np.mgrid[0:w,0:h].T.reshape(-1,2)\n",
    "    # cp_world: 世界坐标系中的角点坐标\n",
    "    cp_world = cp_int * grid_size\n",
    "\n",
    "    obj_points = []  # 空间坐标系中的点\n",
    "    img_points = []  # 像素坐标系中的点\n",
    "    images = glob.glob(img_dir + os.sep + '**.' + img_type)  # 查找符合规则的文件路径名\n",
    "\n",
    "    draw_save_dir = img_dir.replace('calib_imgs', 'calib_corners')\n",
    "    if not Path(draw_save_dir).is_dir():\n",
    "        os.mkdir(draw_save_dir)\n",
    "\n",
    "    for i, fname in enumerate(images):\n",
    "        img = cv.imread(fname)\n",
    "        gray_img = cv.cvtColor(img, cv.COLOR_BGR2GRAY)\n",
    "        # 查找角点，cp_img: 像素坐标系中的角点坐标\n",
    "        ret, cp_img = cv.findChessboardCorners(gray_img, grid_shape, None)\n",
    "        if ret == True:\n",
    "            obj_points.append(cp_world)\n",
    "            img_points.append(cp_img)\n",
    "            draw_img = cv.drawChessboardCorners(img, grid_shape, cp_img, ret)\n",
    "            cv.imwrite(os.path.join(draw_save_dir, str(i)+'.jpg'), draw_img)\n",
    "        else:\n",
    "            print(fname)\n",
    "            raise RuntimeError(\"Find Chessboard Corners Error !\")\n",
    "\n",
    "    # 相机标定\n",
    "    ret, K, coff_dis, v_rot, v_trans = cv.calibrateCamera(obj_points, img_points, gray_img.shape[::-1], None, None, flags=(cv.CALIB_ZERO_TANGENT_DIST+cv.CALIB_FIX_K3))\n",
    "    print(\"Ret:\", ret)\n",
    "    print(\"Internal matrix:\\n\", K)\n",
    "    print(\"Distortion Cofficients:\\n\", coff_dis)\n",
    "    # print(\"Rotation vectors:\\n\", v_rot[0])\n",
    "    # print(\"Translation vectors:\\n\", v_trans[0])\n",
    "    # 计算重投影误差\n",
    "    total_error = 0\n",
    "    for i in range(len(obj_points)):\n",
    "        # 世界坐标系中的点重投影到像素坐标系中\n",
    "        img_points_repro, _ = cv.projectPoints(obj_points[i], v_rot[i], v_trans[i], K, coff_dis)\n",
    "        error = cv.norm(img_points[i], img_points_repro, cv.NORM_L2) / len(img_points_repro)\n",
    "        total_error += error\n",
    "    print(\"Average Error of Reproject:\", total_error/len(obj_points))\n",
    "\n",
    "    return K, coff_dis\n",
    "\n",
    "K, coff_dis = calib(grid_shape, grid_size, calib_dir, img_type);"
   ]
  },
  {
   "cell_type": "code",
   "execution_count": 125,
   "metadata": {},
   "outputs": [],
   "source": [
    "# PnP问题求解相机位姿\n",
    "def usePnP(idx, K, coff_dis, grid_shape, grid_size, img_dir, img_type):\n",
    "    w, h = grid_shape\n",
    "\n",
    "    draw_save_dir = img_dir.replace('rotate_imgs', 'rotate_corners')\n",
    "    if not Path(draw_save_dir).is_dir():\n",
    "        os.mkdir(draw_save_dir)\n",
    "\n",
    "    # cp_int: 世界坐标系中int格式的角点序号坐标，如 (0,0,0), (1,0,0), (2,0,0) ....,(10,7,0).\n",
    "    cp_int = np.zeros((w*h,3), np.float32)\n",
    "    cp_int[:,0:2] = np.mgrid[0:w,0:h].T.reshape(-1,2)\n",
    "    # cp_world: 世界坐标系中的角点坐标\n",
    "    cp_world = cp_int * grid_size\n",
    "\n",
    "    # cp_img: 像素坐标系中的角点坐标\n",
    "    images = glob.glob(img_dir + os.sep + '**.' + img_type)  # 查找符合规则的文件路径名\n",
    "    img = cv.imread(images[idx])\n",
    "    gray_img = cv.cvtColor(img, cv.COLOR_BGR2GRAY)\n",
    "    ret, cp_img = cv.findChessboardCorners(gray_img, grid_shape, None)\n",
    "    if ret == True:\n",
    "        draw_img = cv.drawChessboardCorners(img, grid_shape, cp_img, ret)\n",
    "        cv.imwrite(os.path.join(draw_save_dir, str(idx)+'.jpg'), draw_img)\n",
    "    else:\n",
    "        print(images[idx])\n",
    "        raise RuntimeError(\"Find Chessboard Corners Error !\")\n",
    "\n",
    "    # 估计相机位姿\n",
    "    _, v_rot, t = cv.solvePnP(cp_world, cp_img, K, coff_dis)\n",
    "    # print(\"Rotation vectors:\\n\", v_rot)\n",
    "    # print(\"Translation vectors:\\n\", t)\n",
    "\n",
    "    # 计算累积重投影误差\n",
    "    total_error = 0\n",
    "    # 世界坐标系中的点重投影到像素坐标系中\n",
    "    cp_repro, _ = cv.projectPoints(cp_world, v_rot, t, K, coff_dis)\n",
    "    for i in range(len(cp_world)):\n",
    "        error = cv.norm(cp_repro[i], cp_img[i], cv.NORM_L2) ** 2\n",
    "        total_error += error\n",
    "    total_error /= len(cp_world)\n",
    "    print(\"Average Error of Reproject:\", total_error)\n",
    "\n",
    "    return v_rot, t"
   ]
  },
  {
   "cell_type": "code",
   "execution_count": 213,
   "metadata": {},
   "outputs": [
    {
     "name": "stdout",
     "output_type": "stream",
     "text": [
      "Average Error of Reproject: 0.11538714752532542\n",
      "Average Error of Reproject: 0.21571349288569763\n",
      "Average Error of Reproject: 0.054349913417051234\n",
      "Average Error of Reproject: 0.11989327710277091\n",
      "Average Error of Reproject: 0.11948092320623498\n",
      "Average Error of Reproject: 0.16818677119833106\n",
      "Average Error of Reproject: 0.0559194041416049\n",
      "Average Error of Reproject: 0.1134667625107492\n",
      "Average Error of Reproject: 0.057673861583073936\n"
     ]
    }
   ],
   "source": [
    "# 使用PnP求解世界坐标系到相机坐标系的变换矩阵\n",
    "pic_num = 9  # 图像数目\n",
    "vr_w2i = []  # 世界坐标系到相机坐标系i的旋转向量\n",
    "t_w2i = []  # 世界坐标系到相机坐标系i的平移向量\n",
    "R_w2i = []  # 世界坐标系到相机坐标系i的旋转矩阵\n",
    "\n",
    "for i in range(pic_num):\n",
    "    vr, t = usePnP(i, K, coff_dis, grid_shape, grid_size, rotate_dir, img_type)\n",
    "    R = cv.Rodrigues(vr)[0]\n",
    "    vr_w2i.append(vr)\n",
    "    t_w2i.append(t)\n",
    "    R_w2i.append(R)"
   ]
  },
  {
   "cell_type": "code",
   "execution_count": 214,
   "metadata": {},
   "outputs": [
    {
     "name": "stdout",
     "output_type": "stream",
     "text": [
      "[[-0.00814482]\n",
      " [-0.99995124]\n",
      " [-0.00558429]] 30.891424043763905\n",
      "[[-1.96310944e-02]\n",
      " [ 9.99806999e-01]\n",
      " [-7.64563235e-04]] 31.713003468803056\n",
      "[[ 0.01493871]\n",
      " [-0.99950915]\n",
      " [-0.02753708]] 29.05328826323063\n",
      "[[0.00554881]\n",
      " [0.99942986]\n",
      " [0.03330416]] 28.420992809178717\n",
      "[[-0.01559423]\n",
      " [-0.99925627]\n",
      " [-0.03526664]] 28.284047695384785\n",
      "[[-0.00416111]\n",
      " [ 0.99968131]\n",
      " [ 0.0248989 ]] 29.2774963462251\n",
      "[[-0.01170588]\n",
      " [-0.99974062]\n",
      " [-0.01953617]] 29.583920998953186\n",
      "[[-0.00270293]\n",
      " [ 0.99977375]\n",
      " [ 0.02109827]] 29.499473909192474\n"
     ]
    }
   ],
   "source": [
    "# 计算第i帧到第i+1帧之间的位姿变换，求旋转向量表示\n",
    "R_i2i1 = []  # 第i帧到第i+1帧的相机旋转矩阵\n",
    "vr_i2i1 = []  # 第i帧到第i+1帧的相机旋转向量\n",
    "\n",
    "for i in range(pic_num-1):\n",
    "    R = R_w2i[i+1] @ R_w2i[i].T\n",
    "    vr = cv.Rodrigues(R)[0]\n",
    "    print(vr / np.linalg.norm(vr), np.linalg.norm(vr) * 180 / np.pi)\n",
    "    R_i2i1.append(R)\n",
    "    vr_i2i1.append(vr)"
   ]
  },
  {
   "cell_type": "code",
   "execution_count": 215,
   "metadata": {},
   "outputs": [
    {
     "data": {
      "text/plain": [
       "30.84"
      ]
     },
     "execution_count": 215,
     "metadata": {},
     "output_type": "execute_result"
    }
   ],
   "source": [
    "600 * 0.0514"
   ]
  },
  {
   "cell_type": "code",
   "execution_count": 216,
   "metadata": {},
   "outputs": [
    {
     "name": "stdout",
     "output_type": "stream",
     "text": [
      "[[-0.00814482]\n",
      " [-0.99995124]\n",
      " [-0.00558429]] 30.891424043763905\n",
      "[[-0.73435473]\n",
      " [ 0.67775613]\n",
      " [ 0.03701014]] 1.2044630203366211\n",
      "[[-0.01546937]\n",
      " [-0.99928166]\n",
      " [-0.03459567]] 28.23610847392416\n",
      "[[-0.82343248]\n",
      " [ 0.55529029]\n",
      " [ 0.11666897]] 0.3359986860822683\n",
      "[[-0.02562268]\n",
      " [-0.99900228]\n",
      " [-0.03657758]] 28.101922487998227\n",
      "[[-0.59831017]\n",
      " [ 0.79963951]\n",
      " [-0.05100583]] 1.4855872538106036\n",
      "[[-0.04182232]\n",
      " [-0.9986406 ]\n",
      " [-0.03111014]] 28.422366124661906\n",
      "[[-0.75908926]\n",
      " [ 0.64970534]\n",
      " [ 0.04082242]] 1.6942963233656672\n"
     ]
    }
   ],
   "source": [
    "# 计算第0帧到第i帧之间的位姿变换，求旋转向量表示\n",
    "R_02i = []  # 第0帧到第i帧的相机旋转矩阵\n",
    "vr_02i = []  # 第0帧到第i帧的相机旋转向量\n",
    "\n",
    "for i in range(1, pic_num):\n",
    "    R = R_w2i[i] @ R_w2i[0].T\n",
    "    vr = cv.Rodrigues(R)[0]\n",
    "    print(vr / np.linalg.norm(vr), np.linalg.norm(vr) * 180 / np.pi)\n",
    "    R_02i.append(R)\n",
    "    vr_02i.append(vr)"
   ]
  },
  {
   "cell_type": "code",
   "execution_count": 217,
   "metadata": {},
   "outputs": [
    {
     "name": "stdout",
     "output_type": "stream",
     "text": [
      "[[0.00814482]\n",
      " [0.99995124]\n",
      " [0.00558429]] 30.891424043763905\n",
      "[[ 0.73435473]\n",
      " [-0.67775613]\n",
      " [-0.03701014]] 1.2044630203366211\n",
      "[[0.01546937]\n",
      " [0.99928166]\n",
      " [0.03459567]] 28.23610847392416\n",
      "[[ 0.82343248]\n",
      " [-0.55529029]\n",
      " [-0.11666897]] 0.3359986860822683\n",
      "[[0.02562268]\n",
      " [0.99900228]\n",
      " [0.03657758]] 28.101922487998227\n",
      "[[ 0.59831017]\n",
      " [-0.79963951]\n",
      " [ 0.05100583]] 1.485587253809622\n",
      "[[0.04182232]\n",
      " [0.9986406 ]\n",
      " [0.03111014]] 28.422366124661934\n",
      "[[ 0.75908926]\n",
      " [-0.64970534]\n",
      " [-0.04082242]] 1.6942963233656672\n"
     ]
    }
   ],
   "source": [
    "# 计算第i帧到第0帧之间的位姿变换，求旋转向量表示\n",
    "R_i20 = []  # 第i帧到第0帧的相机旋转矩阵\n",
    "vr_i20 = []  # 第i帧到第0帧的相机旋转向量\n",
    "\n",
    "for i in range(1, pic_num):\n",
    "    R = R_w2i[0] @ R_w2i[i].T\n",
    "    vr = cv.Rodrigues(R)[0]\n",
    "    print(vr / np.linalg.norm(vr), np.linalg.norm(vr) * 180 / np.pi)\n",
    "    R_i20.append(R)\n",
    "    vr_i20.append(vr)"
   ]
  }
 ],
 "metadata": {
  "kernelspec": {
   "display_name": "Python 3.8.13 ('pytorch')",
   "language": "python",
   "name": "python3"
  },
  "language_info": {
   "codemirror_mode": {
    "name": "ipython",
    "version": 3
   },
   "file_extension": ".py",
   "mimetype": "text/x-python",
   "name": "python",
   "nbconvert_exporter": "python",
   "pygments_lexer": "ipython3",
   "version": "3.8.13"
  },
  "orig_nbformat": 4,
  "vscode": {
   "interpreter": {
    "hash": "240bc028caeb8b02ff80d8aedfc61caf7a0e4db2770780d40c5b717508bae340"
   }
  }
 },
 "nbformat": 4,
 "nbformat_minor": 2
}
